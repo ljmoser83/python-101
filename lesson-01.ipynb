{
 "cells": [
  {
   "cell_type": "markdown",
   "metadata": {},
   "source": [
    "Statements and Comments (Can use Markdown like this cell to further comment a file)"
   ]
  },
  {
   "cell_type": "code",
   "execution_count": 1,
   "metadata": {},
   "outputs": [
    {
     "name": "stdout",
     "output_type": "stream",
     "text": [
      "hello world\n"
     ]
    }
   ],
   "source": [
    "print('hello world')"
   ]
  },
  {
   "cell_type": "code",
   "execution_count": 2,
   "metadata": {},
   "outputs": [
    {
     "name": "stdout",
     "output_type": "stream",
     "text": [
      "first statement\n",
      "second statement\n"
     ]
    },
    {
     "ename": "NameError",
     "evalue": "name 'Print' is not defined",
     "output_type": "error",
     "traceback": [
      "\u001b[1;31m---------------------------------------------------------------------------\u001b[0m",
      "\u001b[1;31mNameError\u001b[0m                                 Traceback (most recent call last)",
      "\u001b[1;32m<ipython-input-2-874314c0850a>\u001b[0m in \u001b[0;36m<module>\u001b[1;34m\u001b[0m\n\u001b[0;32m      1\u001b[0m \u001b[0mprint\u001b[0m\u001b[1;33m(\u001b[0m\u001b[1;34m'first statement'\u001b[0m\u001b[1;33m)\u001b[0m\u001b[1;31m#comment for the first statement\u001b[0m\u001b[1;33m\u001b[0m\u001b[0m\n\u001b[0;32m      2\u001b[0m \u001b[0mprint\u001b[0m\u001b[1;33m(\u001b[0m\u001b[1;34m'second statement'\u001b[0m\u001b[1;33m)\u001b[0m\u001b[1;31m#comment for the second statement\u001b[0m\u001b[1;33m\u001b[0m\u001b[0m\n\u001b[1;32m----> 3\u001b[1;33m \u001b[0mPrint\u001b[0m\u001b[1;33m(\u001b[0m\u001b[1;34m'third statement'\u001b[0m\u001b[1;33m)\u001b[0m\u001b[1;31m#functions are case sensitive; this will throw an error.\u001b[0m\u001b[1;33m\u001b[0m\u001b[0m\n\u001b[0m",
      "\u001b[1;31mNameError\u001b[0m: name 'Print' is not defined"
     ]
    }
   ],
   "source": [
    "print('first statement')#comment for the first statement\n",
    "print('second statement')#comment for the second statement\n",
    "Print('third statement')#functions are case sensitive; this will throw an error."
   ]
  },
  {
   "cell_type": "markdown",
   "metadata": {},
   "source": [
    "We can make miltiline statements by adding a forward slash ; BE SURE TO INDENT 4 SPACES (or hit the Tab key)"
   ]
  },
  {
   "cell_type": "code",
   "execution_count": 5,
   "metadata": {},
   "outputs": [
    {
     "name": "stdout",
     "output_type": "stream",
     "text": [
      "56\n"
     ]
    }
   ],
   "source": [
    "sum=15+\\\n",
    "    26+\\\n",
    "    15\n",
    "print(sum)"
   ]
  },
  {
   "cell_type": "code",
   "execution_count": 4,
   "metadata": {},
   "outputs": [
    {
     "name": "stdout",
     "output_type": "stream",
     "text": [
      "56\n"
     ]
    }
   ],
   "source": [
    "sum=15+26+15\n",
    "print(sum)"
   ]
  },
  {
   "cell_type": "markdown",
   "metadata": {},
   "source": [
    "There are three types of errors:"
   ]
  },
  {
   "cell_type": "markdown",
   "metadata": {},
   "source": [
    "SyntaxError"
   ]
  },
  {
   "cell_type": "code",
   "execution_count": 6,
   "metadata": {},
   "outputs": [
    {
     "ename": "SyntaxError",
     "evalue": "invalid syntax (<ipython-input-6-17809f1e1e4d>, line 3)",
     "output_type": "error",
     "traceback": [
      "\u001b[1;36m  File \u001b[1;32m\"<ipython-input-6-17809f1e1e4d>\"\u001b[1;36m, line \u001b[1;32m3\u001b[0m\n\u001b[1;33m    6Change=100*(b-a)/a #SyntaxError: invalid syntax\u001b[0m\n\u001b[1;37m          ^\u001b[0m\n\u001b[1;31mSyntaxError\u001b[0m\u001b[1;31m:\u001b[0m invalid syntax\n"
     ]
    }
   ],
   "source": [
    "a=10\n",
    "b=15\n",
    "6Change=100*(b-a)/a #SyntaxError: invalid syntax"
   ]
  },
  {
   "cell_type": "markdown",
   "metadata": {},
   "source": [
    "Semantic Error"
   ]
  },
  {
   "cell_type": "code",
   "execution_count": 7,
   "metadata": {
    "scrolled": true
   },
   "outputs": [
    {
     "name": "stdout",
     "output_type": "stream",
     "text": [
      "1400.0\n"
     ]
    }
   ],
   "source": [
    "a=5\n",
    "b=15\n",
    "percent_change= 100*(b-a/a)\n",
    "print(percent_change) #1400%???"
   ]
  },
  {
   "cell_type": "code",
   "execution_count": 8,
   "metadata": {},
   "outputs": [
    {
     "name": "stdout",
     "output_type": "stream",
     "text": [
      "200.0\n"
     ]
    }
   ],
   "source": [
    "a=5\n",
    "b=15\n",
    "percent_change= 100*((b-a)/a)\n",
    "print(percent_change)#this configuration is correct. you incurr semantic errors when you write incorrect assumptions in statements that can easily get overlooked."
   ]
  },
  {
   "cell_type": "markdown",
   "metadata": {},
   "source": [
    "Run-time errors"
   ]
  },
  {
   "cell_type": "code",
   "execution_count": 10,
   "metadata": {},
   "outputs": [
    {
     "ename": "ZeroDivisionError",
     "evalue": "division by zero",
     "output_type": "error",
     "traceback": [
      "\u001b[1;31m---------------------------------------------------------------------------\u001b[0m",
      "\u001b[1;31mZeroDivisionError\u001b[0m                         Traceback (most recent call last)",
      "\u001b[1;32m<ipython-input-10-ff536136c1bb>\u001b[0m in \u001b[0;36m<module>\u001b[1;34m\u001b[0m\n\u001b[0;32m      1\u001b[0m \u001b[0ma\u001b[0m\u001b[1;33m=\u001b[0m\u001b[1;36m0\u001b[0m\u001b[1;33m\u001b[0m\u001b[0m\n\u001b[0;32m      2\u001b[0m \u001b[0mb\u001b[0m\u001b[1;33m=\u001b[0m\u001b[1;36m15\u001b[0m\u001b[1;33m\u001b[0m\u001b[0m\n\u001b[1;32m----> 3\u001b[1;33m \u001b[0mPercentChange\u001b[0m\u001b[1;33m=\u001b[0m \u001b[1;36m100\u001b[0m\u001b[1;33m*\u001b[0m\u001b[1;33m(\u001b[0m\u001b[0mb\u001b[0m\u001b[1;33m-\u001b[0m\u001b[0ma\u001b[0m\u001b[1;33m)\u001b[0m\u001b[1;33m/\u001b[0m\u001b[0ma\u001b[0m \u001b[1;31m#ZeroDivisionError: division by zero. This is only 1 run-time error example; there are many specific cases.\u001b[0m\u001b[1;33m\u001b[0m\u001b[0m\n\u001b[0m",
      "\u001b[1;31mZeroDivisionError\u001b[0m: division by zero"
     ]
    }
   ],
   "source": [
    "a=0\n",
    "b=15\n",
    "PercentChange= 100*(b-a)/a #ZeroDivisionError: division by zero. This is only 1 run-time error example; there are many specific cases."
   ]
  },
  {
   "cell_type": "markdown",
   "metadata": {},
   "source": [
    "To help catch these types of errors we can include try and except statements like this:"
   ]
  },
  {
   "cell_type": "code",
   "execution_count": 15,
   "metadata": {},
   "outputs": [
    {
     "name": "stdout",
     "output_type": "stream",
     "text": [
      "Whoops, you can't divide by zero you silly zebra.\n",
      "Hey, this script is still being executed!\n"
     ]
    }
   ],
   "source": [
    "a = 0\n",
    "b = 15\n",
    "try:\n",
    "    PercentChange = 100 * (b - a)/ a # ZeroDivisionError: division by zero. NOTE THE 4 SPACE INDENTION\n",
    "except ZeroDivisionError:\n",
    "    print(\"Whoops, you can't divide by zero you silly zebra.\") #NOTE THE 4 SPACE INDENTION\n",
    "\n",
    "print(\"Hey, this script is still being executed!\")"
   ]
  },
  {
   "cell_type": "markdown",
   "metadata": {},
   "source": [
    "Variables and Assignment Statements (variables must be one word, use only letters, and the _ character)"
   ]
  },
  {
   "cell_type": "code",
   "execution_count": 17,
   "metadata": {},
   "outputs": [
    {
     "name": "stdout",
     "output_type": "stream",
     "text": [
      "hello world\n"
     ]
    }
   ],
   "source": [
    "#the following statement creates the variable \"greeting\", assigns a string value of \"hello world\", and prints greeting\n",
    "greeting='hello world'\n",
    "print(greeting)"
   ]
  },
  {
   "cell_type": "markdown",
   "metadata": {},
   "source": [
    "There is also a set of reserved keywords in Python. You can test variables against a known list of keywords using the following method:"
   ]
  },
  {
   "cell_type": "code",
   "execution_count": 18,
   "metadata": {},
   "outputs": [
    {
     "name": "stdout",
     "output_type": "stream",
     "text": [
      "True\n",
      "False\n"
     ]
    }
   ],
   "source": [
    "import keyword\n",
    "print(keyword.iskeyword('raise')) # True\n",
    "print(keyword.iskeyword('alligator')) # False"
   ]
  },
  {
   "cell_type": "markdown",
   "metadata": {},
   "source": [
    "The naming convention in Python is snake_case instead of camelCase (using _ instead of conjoined capitalized subsequent words). See usage exaple below:"
   ]
  },
  {
   "cell_type": "code",
   "execution_count": 19,
   "metadata": {},
   "outputs": [
    {
     "name": "stdout",
     "output_type": "stream",
     "text": [
      "hello world\n"
     ]
    }
   ],
   "source": [
    "# the variable greeting is created and assigned a string type value\n",
    "my_greeting = 'hello world'\n",
    "print(my_greeting)"
   ]
  },
  {
   "cell_type": "markdown",
   "metadata": {},
   "source": [
    "Python is dynamically typed and strongly typed (data type of variable is intuitively assigned and trying to mix types of variables/data will throw errors instead of producing erroneous results as in JavaScript."
   ]
  },
  {
   "cell_type": "code",
   "execution_count": 20,
   "metadata": {},
   "outputs": [
    {
     "ename": "TypeError",
     "evalue": "unsupported operand type(s) for +: 'int' and 'str'",
     "output_type": "error",
     "traceback": [
      "\u001b[1;31m---------------------------------------------------------------------------\u001b[0m",
      "\u001b[1;31mTypeError\u001b[0m                                 Traceback (most recent call last)",
      "\u001b[1;32m<ipython-input-20-926e0b2e58c2>\u001b[0m in \u001b[0;36m<module>\u001b[1;34m\u001b[0m\n\u001b[0;32m      1\u001b[0m \u001b[0ma\u001b[0m \u001b[1;33m=\u001b[0m \u001b[1;36m4\u001b[0m\u001b[1;33m\u001b[0m\u001b[0m\n\u001b[0;32m      2\u001b[0m \u001b[0mb\u001b[0m \u001b[1;33m=\u001b[0m \u001b[1;34m'4'\u001b[0m\u001b[1;33m\u001b[0m\u001b[0m\n\u001b[1;32m----> 3\u001b[1;33m \u001b[0mc\u001b[0m \u001b[1;33m=\u001b[0m \u001b[0ma\u001b[0m \u001b[1;33m+\u001b[0m \u001b[0mb\u001b[0m  \u001b[1;31m# will throw a TypeError. In JavaScript this would produce an output of 44\u001b[0m\u001b[1;33m\u001b[0m\u001b[0m\n\u001b[0m",
      "\u001b[1;31mTypeError\u001b[0m: unsupported operand type(s) for +: 'int' and 'str'"
     ]
    }
   ],
   "source": [
    "a = 4\n",
    "b = '4'\n",
    "c = a + b  # will throw a TypeError. In JavaScript this would produce an output of 44"
   ]
  },
  {
   "cell_type": "markdown",
   "metadata": {},
   "source": [
    "To address this error you need to use conversion functions:"
   ]
  },
  {
   "cell_type": "code",
   "execution_count": 21,
   "metadata": {},
   "outputs": [
    {
     "data": {
      "text/plain": [
       "8"
      ]
     },
     "execution_count": 21,
     "metadata": {},
     "output_type": "execute_result"
    }
   ],
   "source": [
    "a=4\n",
    "b='4'\n",
    "c=a + int(b)#converts the string to an integer\n",
    "c #output will now be 8"
   ]
  },
  {
   "cell_type": "markdown",
   "metadata": {},
   "source": [
    "Expressions and Comparisons have a similar set of operators to JavaScript and are used in the logic of evaluating statements:"
   ]
  },
  {
   "cell_type": "code",
   "execution_count": 22,
   "metadata": {},
   "outputs": [
    {
     "data": {
      "text/plain": [
       "True"
      ]
     },
     "execution_count": 22,
     "metadata": {},
     "output_type": "execute_result"
    }
   ],
   "source": [
    "(26 == 26) # True\n",
    "('hello' != 'Hello') # True\n",
    "(26 > 24) # True\n",
    "(24 < 26) # True\n",
    "(26 >= 26) # True\n",
    "(26 <= 26) # True"
   ]
  },
  {
   "cell_type": "code",
   "execution_count": 23,
   "metadata": {},
   "outputs": [
    {
     "name": "stdout",
     "output_type": "stream",
     "text": [
      "True\n",
      "False\n",
      "True\n",
      "False\n",
      "True\n",
      "True\n",
      "False\n"
     ]
    }
   ],
   "source": [
    "print(26 == 26)           # True\n",
    "print(26 == 42)           # False\n",
    "print('hello' == 'hello') # True\n",
    "print('hello' == 'Hello') # False\n",
    "print('cat' != 'cow')     # True\n",
    "print(42 == 42.0 )        # True\n",
    "print(42 == '42')         # False"
   ]
  },
  {
   "cell_type": "markdown",
   "metadata": {},
   "source": [
    "There are many built in functions ready for use in Python: https://docs.python.org/3/library/functions.html "
   ]
  },
  {
   "cell_type": "markdown",
   "metadata": {},
   "source": [
    "Data Types:\n",
    "Numeric types (integer and float point);\n",
    "Sequential types (string, tuple, list);\n",
    "Mappings (dictionary, set)"
   ]
  },
  {
   "cell_type": "markdown",
   "metadata": {},
   "source": [
    "Importantly, there are Python built-in functions that can convert types to other types (int, float, str(), tuple, list, dict(), set)."
   ]
  },
  {
   "cell_type": "code",
   "execution_count": 24,
   "metadata": {},
   "outputs": [
    {
     "name": "stdout",
     "output_type": "stream",
     "text": [
      "(90.2, 34.9)\n"
     ]
    }
   ],
   "source": [
    "#For example: you can convert a list to a tuple by:\n",
    "coords_list= [90.2, 34.9]\n",
    "coords_tuple=tuple(coords_list)\n",
    "print(coords_tuple)"
   ]
  },
  {
   "cell_type": "markdown",
   "metadata": {},
   "source": [
    "Numeric Types (note the use of \"type\" to determine the type):"
   ]
  },
  {
   "cell_type": "code",
   "execution_count": 25,
   "metadata": {},
   "outputs": [
    {
     "name": "stdout",
     "output_type": "stream",
     "text": [
      "4\n",
      "<class 'int'>\n"
     ]
    }
   ],
   "source": [
    "#integers\n",
    "number=4\n",
    "print(number)\n",
    "print(type(number))"
   ]
  },
  {
   "cell_type": "code",
   "execution_count": 26,
   "metadata": {},
   "outputs": [
    {
     "name": "stdout",
     "output_type": "stream",
     "text": [
      "4.5\n",
      "<class 'float'>\n"
     ]
    }
   ],
   "source": [
    "#float\n",
    "number=4.5\n",
    "print(number)\n",
    "print(type(number))"
   ]
  },
  {
   "cell_type": "markdown",
   "metadata": {},
   "source": [
    "There is an inherent difference in memory allocation between the two types due to number of bits in use (4 < 4.0 in terms of the number of bits required to store the value)"
   ]
  },
  {
   "cell_type": "markdown",
   "metadata": {},
   "source": [
    "Since both integers and floating points are subytpes of numeric types, they can be comingled in statements without throwing an error. Output will be a floating point."
   ]
  },
  {
   "cell_type": "code",
   "execution_count": 27,
   "metadata": {},
   "outputs": [
    {
     "name": "stdout",
     "output_type": "stream",
     "text": [
      "<class 'int'> <class 'float'>\n",
      "9.5 <class 'float'>\n"
     ]
    }
   ],
   "source": [
    "a = 4\n",
    "b = 5.5\n",
    "print(type(a), type(b)) # <class 'int'> <class 'float'>\n",
    "c = a + b\n",
    "print(c, type(c)) # 9.5 <class 'float'>"
   ]
  },
  {
   "cell_type": "markdown",
   "metadata": {},
   "source": [
    "Division of integers will result in a floating point:"
   ]
  },
  {
   "cell_type": "code",
   "execution_count": 28,
   "metadata": {},
   "outputs": [
    {
     "name": "stdout",
     "output_type": "stream",
     "text": [
      "<class 'int'> <class 'int'>\n",
      "1.0 <class 'float'>\n"
     ]
    }
   ],
   "source": [
    "a = 4\n",
    "b = 4\n",
    "print(type(a), type(b)) # <class 'int'> <class 'int'>\n",
    "c = a/b\n",
    "print(c, type(c)) # <class 'float'>"
   ]
  },
  {
   "cell_type": "markdown",
   "metadata": {},
   "source": [
    "Know that complex numbers are a thing and are tagged with a j or J; we will not use these much, so just be aware."
   ]
  },
  {
   "cell_type": "markdown",
   "metadata": {},
   "source": [
    "Numeric operators are as follows (Remember PEMDAS for order of operations):"
   ]
  },
  {
   "cell_type": "code",
   "execution_count": 30,
   "metadata": {
    "scrolled": true
   },
   "outputs": [
    {
     "data": {
      "text/plain": [
       "8"
      ]
     },
     "execution_count": 30,
     "metadata": {},
     "output_type": "execute_result"
    }
   ],
   "source": [
    "2 ** 3  #exponent"
   ]
  },
  {
   "cell_type": "code",
   "execution_count": 31,
   "metadata": {},
   "outputs": [
    {
     "data": {
      "text/plain": [
       "6"
      ]
     },
     "execution_count": 31,
     "metadata": {},
     "output_type": "execute_result"
    }
   ],
   "source": [
    "22%8 #modulus/remainder after division"
   ]
  },
  {
   "cell_type": "code",
   "execution_count": 32,
   "metadata": {},
   "outputs": [
    {
     "data": {
      "text/plain": [
       "2"
      ]
     },
     "execution_count": 32,
     "metadata": {},
     "output_type": "execute_result"
    }
   ],
   "source": [
    "22//8 #integer division without remainder"
   ]
  },
  {
   "cell_type": "code",
   "execution_count": 33,
   "metadata": {},
   "outputs": [
    {
     "data": {
      "text/plain": [
       "2.75"
      ]
     },
     "execution_count": 33,
     "metadata": {},
     "output_type": "execute_result"
    }
   ],
   "source": [
    "22/8 #traditional division with decimal remainder"
   ]
  },
  {
   "cell_type": "code",
   "execution_count": 34,
   "metadata": {},
   "outputs": [
    {
     "data": {
      "text/plain": [
       "9"
      ]
     },
     "execution_count": 34,
     "metadata": {},
     "output_type": "execute_result"
    }
   ],
   "source": [
    "3*3 #multiplication"
   ]
  },
  {
   "cell_type": "code",
   "execution_count": 35,
   "metadata": {},
   "outputs": [
    {
     "data": {
      "text/plain": [
       "3"
      ]
     },
     "execution_count": 35,
     "metadata": {},
     "output_type": "execute_result"
    }
   ],
   "source": [
    "5-2 #subtraction"
   ]
  },
  {
   "cell_type": "code",
   "execution_count": 36,
   "metadata": {},
   "outputs": [
    {
     "data": {
      "text/plain": [
       "4"
      ]
     },
     "execution_count": 36,
     "metadata": {},
     "output_type": "execute_result"
    }
   ],
   "source": [
    "2+2 #addition"
   ]
  },
  {
   "cell_type": "markdown",
   "metadata": {},
   "source": [
    "String types (created using a single or double quotation mark. use a \\ to escape quotes)"
   ]
  },
  {
   "cell_type": "code",
   "execution_count": 37,
   "metadata": {},
   "outputs": [
    {
     "name": "stdout",
     "output_type": "stream",
     "text": [
      "a text string\n",
      "another text string\n",
      "I'm texting.\n"
     ]
    }
   ],
   "source": [
    "a = 'a text string'\n",
    "print(a)\n",
    "b = \"another text string\"\n",
    "print(b)\n",
    "c = 'I\\'m texting.' # backslash to escape the single quote\n",
    "print(c) # I'm texting."
   ]
  },
  {
   "cell_type": "markdown",
   "metadata": {},
   "source": [
    "We access and manipulate strings with similar functions to JavaScript (Notice the 0 based index system in example below):"
   ]
  },
  {
   "cell_type": "code",
   "execution_count": 38,
   "metadata": {},
   "outputs": [
    {
     "name": "stdout",
     "output_type": "stream",
     "text": [
      "a\n",
      "b\n"
     ]
    },
    {
     "ename": "IndexError",
     "evalue": "string index out of range",
     "output_type": "error",
     "traceback": [
      "\u001b[1;31m---------------------------------------------------------------------------\u001b[0m",
      "\u001b[1;31mIndexError\u001b[0m                                Traceback (most recent call last)",
      "\u001b[1;32m<ipython-input-38-8e4889b3026f>\u001b[0m in \u001b[0;36m<module>\u001b[1;34m\u001b[0m\n\u001b[0;32m      3\u001b[0m \u001b[0msecond_letter\u001b[0m \u001b[1;33m=\u001b[0m \u001b[0mletters\u001b[0m\u001b[1;33m[\u001b[0m\u001b[1;36m1\u001b[0m\u001b[1;33m]\u001b[0m\u001b[1;33m\u001b[0m\u001b[0m\n\u001b[0;32m      4\u001b[0m \u001b[0mprint\u001b[0m\u001b[1;33m(\u001b[0m\u001b[0msecond_letter\u001b[0m\u001b[1;33m)\u001b[0m \u001b[1;31m# b\u001b[0m\u001b[1;33m\u001b[0m\u001b[0m\n\u001b[1;32m----> 5\u001b[1;33m \u001b[0mprint\u001b[0m\u001b[1;33m(\u001b[0m\u001b[0mletters\u001b[0m\u001b[1;33m[\u001b[0m\u001b[1;36m7\u001b[0m\u001b[1;33m]\u001b[0m\u001b[1;33m)\u001b[0m \u001b[1;31m#IndexError: string index out of range\u001b[0m\u001b[1;33m\u001b[0m\u001b[0m\n\u001b[0m",
      "\u001b[1;31mIndexError\u001b[0m: string index out of range"
     ]
    }
   ],
   "source": [
    "letters = 'abcdefg'\n",
    "print(letters[0]) # a\n",
    "second_letter = letters[1]\n",
    "print(second_letter) # b\n",
    "print(letters[7]) #IndexError: string index out of range"
   ]
  },
  {
   "cell_type": "markdown",
   "metadata": {},
   "source": [
    "We can also use use [j:k] for slice running from x[j] to x[k-1]:"
   ]
  },
  {
   "cell_type": "code",
   "execution_count": 39,
   "metadata": {},
   "outputs": [
    {
     "name": "stdout",
     "output_type": "stream",
     "text": [
      "cdef\n"
     ]
    }
   ],
   "source": [
    "letters = 'abcdefg'\n",
    "sliced = letters[2:6]\n",
    "print(sliced) # cdef"
   ]
  },
  {
   "cell_type": "markdown",
   "metadata": {},
   "source": [
    "Use [j:] for j thru the end of the string:"
   ]
  },
  {
   "cell_type": "code",
   "execution_count": 40,
   "metadata": {},
   "outputs": [
    {
     "name": "stdout",
     "output_type": "stream",
     "text": [
      "cdefg\n"
     ]
    }
   ],
   "source": [
    "letters = 'abcdefg'\n",
    "sliced = letters[2:]\n",
    "print(sliced) # cdefg"
   ]
  },
  {
   "cell_type": "markdown",
   "metadata": {},
   "source": [
    "Use [:j] for 0 thru j-1:"
   ]
  },
  {
   "cell_type": "code",
   "execution_count": 41,
   "metadata": {},
   "outputs": [
    {
     "name": "stdout",
     "output_type": "stream",
     "text": [
      "abcd\n"
     ]
    }
   ],
   "source": [
    "letters = 'abcdefg'\n",
    "sliced = letters[:4]\n",
    "print(sliced) # abcd"
   ]
  },
  {
   "cell_type": "markdown",
   "metadata": {},
   "source": [
    "Use [i:j:k] to stride by k:"
   ]
  },
  {
   "cell_type": "code",
   "execution_count": 1,
   "metadata": {},
   "outputs": [
    {
     "name": "stdout",
     "output_type": "stream",
     "text": [
      "bdf\n"
     ]
    }
   ],
   "source": [
    "letters = 'abcdefg'\n",
    "sliced = letters[1:6:2]\n",
    "print(sliced) # bdf"
   ]
  },
  {
   "cell_type": "markdown",
   "metadata": {},
   "source": [
    "Use [-1] for last element or [-j] for jth from last:"
   ]
  },
  {
   "cell_type": "code",
   "execution_count": 2,
   "metadata": {},
   "outputs": [
    {
     "name": "stdout",
     "output_type": "stream",
     "text": [
      "g\n",
      "e\n"
     ]
    }
   ],
   "source": [
    "letters = 'abcdefg'\n",
    "last_element = letters[-1]\n",
    "print(last_element) # g\n",
    "third_to_last_element = letters[-3]\n",
    "print(third_to_last_element) # e"
   ]
  },
  {
   "cell_type": "markdown",
   "metadata": {},
   "source": [
    "One important thing to understand is that strings are immutable. You can not, for instance, use the bracket notation to change a specific character:"
   ]
  },
  {
   "cell_type": "code",
   "execution_count": 3,
   "metadata": {},
   "outputs": [
    {
     "ename": "TypeError",
     "evalue": "'str' object does not support item assignment",
     "output_type": "error",
     "traceback": [
      "\u001b[1;31m---------------------------------------------------------------------------\u001b[0m",
      "\u001b[1;31mTypeError\u001b[0m                                 Traceback (most recent call last)",
      "\u001b[1;32m<ipython-input-3-06717751f109>\u001b[0m in \u001b[0;36m<module>\u001b[1;34m\u001b[0m\n\u001b[0;32m      1\u001b[0m \u001b[0mletters\u001b[0m \u001b[1;33m=\u001b[0m \u001b[1;34m'abcdefg'\u001b[0m\u001b[1;33m\u001b[0m\u001b[0m\n\u001b[1;32m----> 2\u001b[1;33m \u001b[0mletters\u001b[0m\u001b[1;33m[\u001b[0m\u001b[1;36m2\u001b[0m\u001b[1;33m]\u001b[0m \u001b[1;33m=\u001b[0m \u001b[1;34m'm'\u001b[0m \u001b[1;31m#TypeError: 'str' object does not support item assignment\u001b[0m\u001b[1;33m\u001b[0m\u001b[0m\n\u001b[0m",
      "\u001b[1;31mTypeError\u001b[0m: 'str' object does not support item assignment"
     ]
    }
   ],
   "source": [
    "letters = 'abcdefg'\n",
    "letters[2] = 'm' #TypeError: 'str' object does not support item assignment"
   ]
  },
  {
   "cell_type": "markdown",
   "metadata": {},
   "source": [
    "To do this you'd simply have to reassign a value to the variable: letters = 'abmdefg'"
   ]
  },
  {
   "cell_type": "markdown",
   "metadata": {},
   "source": [
    "String Operators"
   ]
  },
  {
   "cell_type": "markdown",
   "metadata": {},
   "source": [
    "We can use + and * with strings to various effect. see examples below:"
   ]
  },
  {
   "cell_type": "code",
   "execution_count": 4,
   "metadata": {},
   "outputs": [
    {
     "name": "stdout",
     "output_type": "stream",
     "text": [
      "I am a string \n",
      "string string string string string string \n"
     ]
    }
   ],
   "source": [
    "s = 'string '\n",
    "s2 = 'I am a ' + s\n",
    "print(s2) # I am a string\n",
    "print(s*6) # string string string string string string "
   ]
  },
  {
   "cell_type": "markdown",
   "metadata": {},
   "source": [
    "We can also use the comparison operators for strings which compute a character-by-character comparison in lexical order:"
   ]
  },
  {
   "cell_type": "code",
   "execution_count": 33,
   "metadata": {},
   "outputs": [
    {
     "name": "stdout",
     "output_type": "stream",
     "text": [
      "False\n",
      "True\n",
      "False\n"
     ]
    }
   ],
   "source": [
    "a = 'abc'\n",
    "b = 'bcd'\n",
    "print(a > b) # False\n",
    "print(a < b) # True\n",
    "print (a == b)"
   ]
  },
  {
   "cell_type": "markdown",
   "metadata": {},
   "source": [
    "Python also supports the useful in and not in operators, which return True or False:"
   ]
  },
  {
   "cell_type": "code",
   "execution_count": 6,
   "metadata": {},
   "outputs": [
    {
     "name": "stdout",
     "output_type": "stream",
     "text": [
      "True\n"
     ]
    }
   ],
   "source": [
    "animal = 'alligator'\n",
    "print('gator' in animal) # True"
   ]
  },
  {
   "cell_type": "markdown",
   "metadata": {},
   "source": [
    "Python 3 also offers improved formatting for the output of strings, using the f and { ... } syntax."
   ]
  },
  {
   "cell_type": "code",
   "execution_count": 7,
   "metadata": {},
   "outputs": [
    {
     "name": "stdout",
     "output_type": "stream",
     "text": [
      "Paging Mr.Dobalina. Mr.Bob Dobalina.\n"
     ]
    }
   ],
   "source": [
    "first_name = 'Bob'\n",
    "last_name = 'Dobalina'\n",
    "output = f'Paging Mr.{last_name}. Mr.{first_name} {last_name}.'\n",
    "print(output) #Paging Mr.Dobalina. Mr.Bob Dobalina."
   ]
  },
  {
   "cell_type": "markdown",
   "metadata": {},
   "source": [
    "Strings also have functions and methods that we can use:"
   ]
  },
  {
   "cell_type": "markdown",
   "metadata": {},
   "source": [
    "Built in Functions https://www.w3schools.com/python/python_ref_functions.asp:"
   ]
  },
  {
   "cell_type": "code",
   "execution_count": 8,
   "metadata": {
    "scrolled": true
   },
   "outputs": [
    {
     "name": "stdout",
     "output_type": "stream",
     "text": [
      "3 c a\n",
      "4.6 <class 'str'>\n"
     ]
    }
   ],
   "source": [
    "length = len('abc') \n",
    "highest_char = max('abc') \n",
    "lowest_char = min('abc')\n",
    "print(length, highest_char, lowest_char) # 3 c a\n",
    "stringified = str(4.6)    \n",
    "print(stringified, type(stringified)) #4.6 <class 'str'>"
   ]
  },
  {
   "cell_type": "markdown",
   "metadata": {},
   "source": [
    "String Methods https://www.w3schools.com/python/python_ref_string.asp:"
   ]
  },
  {
   "cell_type": "markdown",
   "metadata": {},
   "source": [
    "Strings are objects and in an object-oriented world, objects have both attributes and procedures (a.k.a. methods)"
   ]
  },
  {
   "cell_type": "code",
   "execution_count": 31,
   "metadata": {},
   "outputs": [
    {
     "name": "stdout",
     "output_type": "stream",
     "text": [
      "CARTOGRAPHER\n",
      "rehpargotrac\n",
      "False\n",
      "director\n",
      "the early bird catches the worm\n"
     ]
    }
   ],
   "source": [
    "job = 'cartographer'\n",
    "print(job.upper()) # CARTOGRAPHER\n",
    "print(''.join(list(reversed(job))))# a true method to reverse and ouput string\n",
    "jobs=''.join(list(reversed(job)))#assigning that reversed string to a variable\n",
    "print(job == jobs)#testing the string for being a  palindrome\n",
    "title = 'DIRECTOR'\n",
    "print(title.lower()) # director\n",
    "phrase = '   the early bird catches the worm  '\n",
    "print(phrase.strip()) #the early bird catches the worm"
   ]
  },
  {
   "cell_type": "markdown",
   "metadata": {},
   "source": [
    "Methods to evaluate strings to a true or false Boolean are included in the hyperlink documentation above."
   ]
  },
  {
   "cell_type": "code",
   "execution_count": 34,
   "metadata": {},
   "outputs": [
    {
     "name": "stdout",
     "output_type": "stream",
     "text": [
      "True\n",
      "False\n"
     ]
    }
   ],
   "source": [
    "number = \"155\"\n",
    "letters = \"abcdef\"\n",
    "\n",
    "print(number.isnumeric()) # True\n",
    "print(letters.isnumeric()) # False"
   ]
  },
  {
   "cell_type": "markdown",
   "metadata": {},
   "source": [
    ".join()"
   ]
  },
  {
   "cell_type": "code",
   "execution_count": 35,
   "metadata": {},
   "outputs": [
    {
     "name": "stdout",
     "output_type": "stream",
     "text": [
      "1,3,6,2,5,4,8\n"
     ]
    }
   ],
   "source": [
    "s = ','\n",
    "s2 = '1362548'\n",
    "with_commas = s.join(s2)\n",
    "print(with_commas) # 1,3,6,2,5,4,8"
   ]
  },
  {
   "cell_type": "markdown",
   "metadata": {},
   "source": [
    "similar method employed in the reversed() example two code blocks above."
   ]
  },
  {
   "cell_type": "markdown",
   "metadata": {},
   "source": [
    ".split() returns the characters in a string into a list and they are delimited by a chosen character"
   ]
  },
  {
   "cell_type": "code",
   "execution_count": 36,
   "metadata": {},
   "outputs": [
    {
     "name": "stdout",
     "output_type": "stream",
     "text": [
      "['a', 'horse', 'walks', 'into', 'a', 'bar']\n"
     ]
    }
   ],
   "source": [
    "phrase = 'a horse walks into a bar'\n",
    "print(phrase.split()) # ['a', 'horse', 'walks', 'into', 'a', 'bar']"
   ]
  },
  {
   "cell_type": "code",
   "execution_count": 37,
   "metadata": {},
   "outputs": [
    {
     "name": "stdout",
     "output_type": "stream",
     "text": [
      "['A long long time ago', ' in a galaxy far away', ' Naboo was under an attack']\n"
     ]
    }
   ],
   "source": [
    "lyrics = 'A long long time ago, in a galaxy far away, Naboo was under an attack'\n",
    "print(lyrics.split(',')) # ['A long long time ago', ' in a galaxy far away', ' Naboo was under an attack']"
   ]
  },
  {
   "cell_type": "markdown",
   "metadata": {},
   "source": [
    ".find() returns the index of the chosen character or sequence of characters"
   ]
  },
  {
   "cell_type": "code",
   "execution_count": 38,
   "metadata": {},
   "outputs": [
    {
     "name": "stdout",
     "output_type": "stream",
     "text": [
      "6\n"
     ]
    }
   ],
   "source": [
    "print('geocomputing'.find('p')) # 6"
   ]
  },
  {
   "cell_type": "markdown",
   "metadata": {},
   "source": [
    ".replace() will replace all instances of one string with another string"
   ]
  },
  {
   "cell_type": "code",
   "execution_count": 39,
   "metadata": {},
   "outputs": [
    {
     "name": "stdout",
     "output_type": "stream",
     "text": [
      "boots and cows and boots and cows and boots and cows\n"
     ]
    }
   ],
   "source": [
    "song = 'boots and cats and boots and cats and boots and cats'\n",
    "improved = song.replace('cats', 'cows')\n",
    "print(improved) # boots and cows and boots and cows and boots and cows"
   ]
  },
  {
   "cell_type": "markdown",
   "metadata": {},
   "source": [
    "As we move on to lists and tuples, remember that many of these functions and methods will still be applicable."
   ]
  },
  {
   "cell_type": "markdown",
   "metadata": {},
   "source": [
    "LISTS"
   ]
  },
  {
   "cell_type": "raw",
   "metadata": {},
   "source": [
    "Lists are a lot like arrays. Can contain numbers, strings, lists, tuples, dictionaries."
   ]
  },
  {
   "cell_type": "code",
   "execution_count": 2,
   "metadata": {},
   "outputs": [
    {
     "name": "stdout",
     "output_type": "stream",
     "text": [
      "[[1, 2, 3, 4, 5, 6], ['cat', 'cow', 'crow', 'downward dog']]\n"
     ]
    }
   ],
   "source": [
    "nums = [1,2,3,4,5,6]\n",
    "strings = ['cat','cow','crow','downward dog']\n",
    "lists = [[1,2,3,4,5,6],['cat','cow','crow','downward dog']]\n",
    "lists2 = [nums,strings]\n",
    "print(lists2)"
   ]
  },
  {
   "cell_type": "markdown",
   "metadata": {},
   "source": [
    "Accessing and Slicing"
   ]
  },
  {
   "cell_type": "code",
   "execution_count": 5,
   "metadata": {},
   "outputs": [
    {
     "name": "stdout",
     "output_type": "stream",
     "text": [
      "1\n",
      "4\n"
     ]
    },
    {
     "ename": "IndexError",
     "evalue": "list index out of range",
     "output_type": "error",
     "traceback": [
      "\u001b[1;31m---------------------------------------------------------------------------\u001b[0m",
      "\u001b[1;31mIndexError\u001b[0m                                Traceback (most recent call last)",
      "\u001b[1;32m<ipython-input-5-5faa9b1d3469>\u001b[0m in \u001b[0;36m<module>\u001b[1;34m\u001b[0m\n\u001b[0;32m      3\u001b[0m \u001b[0mprint\u001b[0m\u001b[1;33m(\u001b[0m\u001b[0mnums\u001b[0m\u001b[1;33m[\u001b[0m\u001b[1;36m0\u001b[0m\u001b[1;33m]\u001b[0m\u001b[1;33m)\u001b[0m \u001b[1;31m# 1\u001b[0m\u001b[1;33m\u001b[0m\u001b[0m\n\u001b[0;32m      4\u001b[0m \u001b[0mprint\u001b[0m\u001b[1;33m(\u001b[0m\u001b[0mnums\u001b[0m\u001b[1;33m[\u001b[0m\u001b[1;33m-\u001b[0m\u001b[1;36m2\u001b[0m\u001b[1;33m]\u001b[0m\u001b[1;33m)\u001b[0m \u001b[1;31m# 4\u001b[0m\u001b[1;33m\u001b[0m\u001b[0m\n\u001b[1;32m----> 5\u001b[1;33m \u001b[0mprint\u001b[0m\u001b[1;33m(\u001b[0m\u001b[0mnums\u001b[0m\u001b[1;33m[\u001b[0m\u001b[1;36m5\u001b[0m\u001b[1;33m]\u001b[0m\u001b[1;33m)\u001b[0m \u001b[1;31m# IndexError: list index out of range\u001b[0m\u001b[1;33m\u001b[0m\u001b[0m\n\u001b[0m\u001b[0;32m      6\u001b[0m \u001b[1;31m#slicing\u001b[0m\u001b[1;33m\u001b[0m\u001b[1;33m\u001b[0m\u001b[0m\n\u001b[0;32m      7\u001b[0m \u001b[0mprint\u001b[0m\u001b[1;33m(\u001b[0m\u001b[0mnums\u001b[0m\u001b[1;33m[\u001b[0m\u001b[1;36m1\u001b[0m\u001b[1;33m:\u001b[0m\u001b[1;36m3\u001b[0m\u001b[1;33m]\u001b[0m\u001b[1;33m)\u001b[0m \u001b[1;31m#[2,3]\u001b[0m\u001b[1;33m\u001b[0m\u001b[0m\n",
      "\u001b[1;31mIndexError\u001b[0m: list index out of range"
     ]
    }
   ],
   "source": [
    "nums = [1,2,3,4,5]\n",
    "#accessing\n",
    "print(nums[0]) # 1\n",
    "print(nums[-2]) # 4\n",
    "print(nums[5]) # IndexError: list index out of range\n",
    "#slicing\n",
    "print(nums[1:3]) #[2,3]\n",
    "print(nums[2:]) #[3,4,5]"
   ]
  },
  {
   "cell_type": "markdown",
   "metadata": {},
   "source": [
    "Lists are capable of being multidimensional and can be accessed with multi bracket notation like:"
   ]
  },
  {
   "cell_type": "code",
   "execution_count": 6,
   "metadata": {},
   "outputs": [
    {
     "name": "stdout",
     "output_type": "stream",
     "text": [
      "c\n"
     ]
    }
   ],
   "source": [
    "a = [0, ['a','b','c','d','e'], 2, 3]\n",
    "print(a[1][2]) # c"
   ]
  },
  {
   "cell_type": "markdown",
   "metadata": {},
   "source": [
    "Unlike strings, elements within list need not be characters and lists are mutable (can have entries updated with bracket notation accessing and setting equal to a value. Values or parts of values can be updated, deleted, or inserted)"
   ]
  },
  {
   "cell_type": "code",
   "execution_count": 7,
   "metadata": {},
   "outputs": [
    {
     "name": "stdout",
     "output_type": "stream",
     "text": [
      "[1, 'text', 3, 4]\n",
      "[1, 'a', 'b', 4]\n",
      "[1, 'b', 4]\n"
     ]
    }
   ],
   "source": [
    "a = [1,2,3,4]\n",
    "a[1] = 'text'\n",
    "print(a) # [1,’text’,3,4]\n",
    "a[1:3] = 'ab'\n",
    "print(a) # [1,’a’,’b’,4]\n",
    "del(a[1])\n",
    "print(a) # [1,’b’,4]"
   ]
  },
  {
   "cell_type": "markdown",
   "metadata": {},
   "source": [
    "Lists also have operators that allow for concatenation and other modifications"
   ]
  },
  {
   "cell_type": "code",
   "execution_count": 10,
   "metadata": {},
   "outputs": [
    {
     "name": "stdout",
     "output_type": "stream",
     "text": [
      "[1, 2, 3, 4, 5, 6]\n",
      "[1, 2, 3, 1, 2, 3, 1, 2, 3]\n"
     ]
    }
   ],
   "source": [
    "# concatenating lists\n",
    "first = [1,2,3]\n",
    "second = [4,5,6]\n",
    "combined = first + second\n",
    "print(combined) # [1, 2, 3, 4, 5, 6]\n",
    "# replicating lists\n",
    "repeated = first * 3\n",
    "print(repeated) # [1, 2, 3, 1, 2, 3, 1, 2, 3]"
   ]
  },
  {
   "cell_type": "markdown",
   "metadata": {},
   "source": [
    "Membership operators can test for values in lists and return true/false boolean"
   ]
  },
  {
   "cell_type": "code",
   "execution_count": 11,
   "metadata": {},
   "outputs": [
    {
     "name": "stdout",
     "output_type": "stream",
     "text": [
      "True\n",
      "False\n"
     ]
    }
   ],
   "source": [
    "tools = ['Python', 'JS', 'GDAL', 'QGIS']\n",
    "print('JS' in tools) # True\n",
    "print('JS' not in tools) # False"
   ]
  },
  {
   "cell_type": "markdown",
   "metadata": {},
   "source": [
    "List Functions"
   ]
  },
  {
   "cell_type": "code",
   "execution_count": 12,
   "metadata": {},
   "outputs": [
    {
     "name": "stdout",
     "output_type": "stream",
     "text": [
      "3\n",
      "21\n",
      "Z\n"
     ]
    }
   ],
   "source": [
    "print(len([10,21,17])) # 3\n",
    "print(max([10,21,17])) # 21\n",
    "print(min(['a','Z','z'])) # Z"
   ]
  },
  {
   "cell_type": "markdown",
   "metadata": {},
   "source": [
    "In practice you would likely assign the return value of the function to a variable for future use in the algorithm like:"
   ]
  },
  {
   "cell_type": "code",
   "execution_count": 13,
   "metadata": {},
   "outputs": [
    {
     "name": "stdout",
     "output_type": "stream",
     "text": [
      "21\n"
     ]
    }
   ],
   "source": [
    "max_value = max([10,21,17])\n",
    "print(max_value)"
   ]
  },
  {
   "cell_type": "markdown",
   "metadata": {},
   "source": [
    "List Methods (Note: you can help(object) to determine the available methods for a given object.)"
   ]
  },
  {
   "cell_type": "markdown",
   "metadata": {},
   "source": [
    "https://www.w3schools.com/python/python_ref_list.asp"
   ]
  },
  {
   "cell_type": "code",
   "execution_count": 15,
   "metadata": {},
   "outputs": [
    {
     "name": "stdout",
     "output_type": "stream",
     "text": [
      "[1, 2, 3, 4, 5, 6]\n",
      "[0, 1, 2, 3, 4, 5, 6]\n",
      "[6, 5, 4, 3, 2, 1, 0]\n"
     ]
    }
   ],
   "source": [
    "nums = [1,2,3,4,5]\n",
    "nums.append(6)\n",
    "print(nums) # [1, 2, 3, 4, 5, 6]\n",
    "nums.insert(0,0)\n",
    "print(nums) # [0, 1, 2, 3, 4, 5, 6]\n",
    "nums.reverse()\n",
    "print(nums) # [6, 5, 4, 3, 2, 1, 0]"
   ]
  },
  {
   "cell_type": "markdown",
   "metadata": {},
   "source": [
    "Recognize that not everything from JavaScript works the same way:"
   ]
  },
  {
   "cell_type": "code",
   "execution_count": 16,
   "metadata": {},
   "outputs": [
    {
     "name": "stdout",
     "output_type": "stream",
     "text": [
      "[1, 2, 3, 4]\n",
      "[1, 2, 3, 4]\n"
     ]
    }
   ],
   "source": [
    "list_a = [1,2,3]\n",
    "list_b = list_a\n",
    "list_b.append(4)\n",
    "print(list_a) # [1, 2, 3, 4]\n",
    "print(list_b) # [1, 2, 3, 4]"
   ]
  },
  {
   "cell_type": "markdown",
   "metadata": {},
   "source": [
    "to get the same result that we would in JavaScript we would need to use:"
   ]
  },
  {
   "cell_type": "code",
   "execution_count": 17,
   "metadata": {},
   "outputs": [
    {
     "name": "stdout",
     "output_type": "stream",
     "text": [
      "[1, 2, 3]\n",
      "[1, 2, 3, 4]\n"
     ]
    }
   ],
   "source": [
    "list_a = [1,2,3]\n",
    "list_b = list_a.copy()\n",
    "list_b.append(4) # add a new value to the end of list_b list\n",
    "print(list_a) # [1, 2, 3]\n",
    "print(list_b) # [1, 2, 3, 4]"
   ]
  },
  {
   "cell_type": "markdown",
   "metadata": {},
   "source": [
    "TUPLES (like lists are a container of sequenced objects...however, they are immutable)"
   ]
  },
  {
   "cell_type": "markdown",
   "metadata": {},
   "source": [
    "Tuples are created by separating objects with commas."
   ]
  },
  {
   "cell_type": "code",
   "execution_count": 2,
   "metadata": {},
   "outputs": [
    {
     "name": "stdout",
     "output_type": "stream",
     "text": [
      "<class 'tuple'>\n",
      "('Appaloosa', 'Brumby', 'Colorado Ranger')\n"
     ]
    }
   ],
   "source": [
    "horses = 'Appaloosa', 'Brumby', 'Colorado Ranger'\n",
    "print(type(horses)) # <class 'tuple'>\n",
    "print(horses)"
   ]
  },
  {
   "cell_type": "markdown",
   "metadata": {},
   "source": [
    "However, it is advised to just go ahead and wrap the objets with commmas like you would to create a list."
   ]
  },
  {
   "cell_type": "code",
   "execution_count": 3,
   "metadata": {},
   "outputs": [
    {
     "name": "stdout",
     "output_type": "stream",
     "text": [
      "<class 'tuple'>\n",
      "('Appaloosa', 'Brumby', 'Colorado Ranger')\n"
     ]
    }
   ],
   "source": [
    "horses = ('Appaloosa', 'Brumby', 'Colorado Ranger')\n",
    "print(type(horses)) # <class 'tuple'>\n",
    "print(horses)"
   ]
  },
  {
   "cell_type": "markdown",
   "metadata": {},
   "source": [
    "Like strings and lists, we access tuples using bracket notation. However, because tuples are immutable, wee can not substitute objects."
   ]
  },
  {
   "cell_type": "code",
   "execution_count": 4,
   "metadata": {},
   "outputs": [
    {
     "ename": "TypeError",
     "evalue": "'tuple' object does not support item assignment",
     "output_type": "error",
     "traceback": [
      "\u001b[1;31m---------------------------------------------------------------------------\u001b[0m",
      "\u001b[1;31mTypeError\u001b[0m                                 Traceback (most recent call last)",
      "\u001b[1;32m<ipython-input-4-15a5fc993287>\u001b[0m in \u001b[0;36m<module>\u001b[1;34m\u001b[0m\n\u001b[0;32m      1\u001b[0m \u001b[0mhorses\u001b[0m \u001b[1;33m=\u001b[0m \u001b[1;33m(\u001b[0m\u001b[1;34m'Appaloosa'\u001b[0m\u001b[1;33m,\u001b[0m \u001b[1;34m'Brumby'\u001b[0m\u001b[1;33m,\u001b[0m \u001b[1;34m'Colorado Ranger'\u001b[0m\u001b[1;33m)\u001b[0m\u001b[1;33m\u001b[0m\u001b[0m\n\u001b[1;32m----> 2\u001b[1;33m \u001b[0mhorses\u001b[0m\u001b[1;33m[\u001b[0m\u001b[1;36m2\u001b[0m\u001b[1;33m]\u001b[0m \u001b[1;33m=\u001b[0m \u001b[1;34m'Boerperd'\u001b[0m \u001b[1;31m# TypeError: 'tuple' object does not support item assignment\u001b[0m\u001b[1;33m\u001b[0m\u001b[0m\n\u001b[0m",
      "\u001b[1;31mTypeError\u001b[0m: 'tuple' object does not support item assignment"
     ]
    }
   ],
   "source": [
    "horses = ('Appaloosa', 'Brumby', 'Colorado Ranger')\n",
    "horses[2] = 'Boerperd' # TypeError: 'tuple' object does not support item assignment"
   ]
  },
  {
   "cell_type": "markdown",
   "metadata": {},
   "source": [
    "Tuples also have operators and like strings and lists, tuples support concatenation (+), replication(*), and membership (in and not in)."
   ]
  },
  {
   "cell_type": "markdown",
   "metadata": {},
   "source": [
    "TUPLE FUNCTIONS"
   ]
  },
  {
   "cell_type": "code",
   "execution_count": 5,
   "metadata": {},
   "outputs": [
    {
     "name": "stdout",
     "output_type": "stream",
     "text": [
      "3\n",
      "21\n",
      "Z\n"
     ]
    }
   ],
   "source": [
    "print(len((10,21,17))) # 3\n",
    "print(max((10,21,17))) # 21\n",
    "print(min(('a','Z','z'))) # Z"
   ]
  },
  {
   "cell_type": "markdown",
   "metadata": {},
   "source": [
    "TUPLES ARE IMMUTABLE SO THEY HAVE NO METHODS"
   ]
  },
  {
   "cell_type": "markdown",
   "metadata": {},
   "source": [
    "Packing and unpacking Tuples"
   ]
  },
  {
   "cell_type": "code",
   "execution_count": 9,
   "metadata": {},
   "outputs": [
    {
     "name": "stdout",
     "output_type": "stream",
     "text": [
      "1\n",
      "3\n",
      "2.0\n",
      "[40, 41]\n"
     ]
    }
   ],
   "source": [
    "a_tuple = (1,2,3,4)\n",
    "b_tuple = (1,2.,'3',[40,41])\n",
    "a,b,c,d = a_tuple\n",
    "print(a) # 1\n",
    "print(c) # 3\n",
    "\n",
    "one,two,three,four = b_tuple\n",
    "print(two) # 2.0\n",
    "print(four) # [40, 41]"
   ]
  },
  {
   "cell_type": "markdown",
   "metadata": {},
   "source": [
    "The statements unpacking these tuples creates new variables a, b, one, two, etc and assigns values based on the order of values within the tuple.\n",
    "\n",
    "This same technique can be used with strings and lists."
   ]
  },
  {
   "cell_type": "code",
   "execution_count": 10,
   "metadata": {},
   "outputs": [
    {
     "name": "stdout",
     "output_type": "stream",
     "text": [
      "a c\n",
      "1 3\n"
     ]
    }
   ],
   "source": [
    "s = 'abcd'\n",
    "one,two,three,four = s\n",
    "print(one,three) # a c\n",
    "l = [1,2,3,4]\n",
    "a,b,c,d = l\n",
    "print(a,c) # 1 3"
   ]
  },
  {
   "cell_type": "markdown",
   "metadata": {},
   "source": [
    "DICTIONARIES"
   ]
  },
  {
   "cell_type": "markdown",
   "metadata": {},
   "source": [
    "Dictionaries are like Java Script Objects and are wrapped in curly brackets with key:value pairs separated by commas. keys must be unique."
   ]
  },
  {
   "cell_type": "code",
   "execution_count": 13,
   "metadata": {},
   "outputs": [
    {
     "name": "stdout",
     "output_type": "stream",
     "text": [
      "8550405\n"
     ]
    }
   ],
   "source": [
    "city_population = {\"New York City\":8550405, \"Los Angeles\":3971883, \"Chicago\":2720546}\n",
    "print(city_population[\"New York City\"])"
   ]
  },
  {
   "cell_type": "markdown",
   "metadata": {},
   "source": [
    "Values are accessed within a dictionary using bracket notation with the key"
   ]
  },
  {
   "cell_type": "markdown",
   "metadata": {},
   "source": [
    "Can create a dictionary by passing any other data type, sequential or mapping to it with the dict() command"
   ]
  },
  {
   "cell_type": "code",
   "execution_count": 14,
   "metadata": {},
   "outputs": [
    {
     "name": "stdout",
     "output_type": "stream",
     "text": [
      "uno\n"
     ]
    }
   ],
   "source": [
    "numeros = {1:'uno', 2:'dos', 3:'tres'}\n",
    "print(numeros[1]) # uno"
   ]
  },
  {
   "cell_type": "code",
   "execution_count": 15,
   "metadata": {},
   "outputs": [
    {
     "name": "stdout",
     "output_type": "stream",
     "text": [
      "{'red': 'ff0000', 'grn': '00ff00', 'blu': '0000ff'}\n"
     ]
    }
   ],
   "source": [
    "colors = [['red','ff0000'],['grn','00ff00'],['blu','0000ff']]\n",
    "color_dict = dict(colors)\n",
    "print(color_dict) # {'red': 'ff0000', 'grn': '00ff00', 'blu': '0000ff'}"
   ]
  },
  {
   "cell_type": "markdown",
   "metadata": {},
   "source": [
    "DICTIONARIES ARE UPDATABLE. Pass updates to dictionary using bracket notation and and conditional statement using = to set new value."
   ]
  },
  {
   "cell_type": "code",
   "execution_count": 16,
   "metadata": {},
   "outputs": [
    {
     "name": "stdout",
     "output_type": "stream",
     "text": [
      "3971883\n",
      "{'New York City': 8550405, 'Los Angeles': 3971883, 'Chicago': 2720546, 'Buenos Aires': 2890000}\n"
     ]
    }
   ],
   "source": [
    "city_population = {\"New York City\":8550405, \"Los Angeles\":3971883, \"Chicago\":2720546}\n",
    "print(city_population[\"Los Angeles\"]) # 3971883\n",
    "city_population[\"Buenos Aires\"] = 2890000\n",
    "print(city_population) # {'New York City': 8550405, 'Los Angeles': 3971883, 'Chicago': 2720546, 'Buenos Aires': 2890000}"
   ]
  },
  {
   "cell_type": "markdown",
   "metadata": {},
   "source": [
    "You can delete value:key pairs using the del() function and bracket notation."
   ]
  },
  {
   "cell_type": "code",
   "execution_count": 17,
   "metadata": {},
   "outputs": [
    {
     "name": "stdout",
     "output_type": "stream",
     "text": [
      "3971883\n",
      "{'New York City': 8550405, 'Los Angeles': 3971883, 'Chicago': 2720546, 'Buenos Aires': 2890000}\n",
      "{'New York City': 8550405, 'Los Angeles': 3971883, 'Buenos Aires': 2890000}\n"
     ]
    }
   ],
   "source": [
    "city_population = {\"New York City\":8550405, \"Los Angeles\":3971883, \"Chicago\":2720546}\n",
    "print(city_population[\"Los Angeles\"]) # 3971883\n",
    "city_population[\"Buenos Aires\"] = 2890000\n",
    "print(city_population) # {'New York City': 8550405, 'Los Angeles': 3971883, 'Chicago': 2720546, 'Buenos Aires': 2890000}\n",
    "del(city_population[\"Chicago\"])\n",
    "print(city_population) # {'New York City': 8550405, 'Los Angeles': 3971883, 'Buenos Aires': 2890000}"
   ]
  },
  {
   "cell_type": "markdown",
   "metadata": {},
   "source": [
    "Dictionaries do not support operators. len() is the only function of use to note."
   ]
  },
  {
   "cell_type": "markdown",
   "metadata": {},
   "source": [
    "There are several useful methods to be used to iterate through a dictionary:\n",
    "\n",
    "\n",
    "d.keys()\tReturns an iterable view object of d's keys; d.values()\tReturns an iterable view object of d's values; \n",
    "d.items()\tReturns an iterable view object of d/s key/value items (as a tuple). These are best utilized within a for loop as example below shows:"
   ]
  },
  {
   "cell_type": "code",
   "execution_count": 19,
   "metadata": {},
   "outputs": [
    {
     "name": "stdout",
     "output_type": "stream",
     "text": [
      "New York City\n",
      "Los Angeles\n",
      "Chicago\n",
      "Chicago\n",
      "Chicago\n",
      "Chicago\n"
     ]
    }
   ],
   "source": [
    "city_population = {\"New York City\":8550405, \"Los Angeles\":3971883, \"Chicago\":2720546}\n",
    "for key in city_population.keys():\n",
    "    print(key) # New York City\n"
   ]
  },
  {
   "cell_type": "code",
   "execution_count": 21,
   "metadata": {},
   "outputs": [
    {
     "name": "stdout",
     "output_type": "stream",
     "text": [
      "8550405\n",
      "3971883\n",
      "2720546\n"
     ]
    }
   ],
   "source": [
    "city_population = {\"New York City\":8550405, \"Los Angeles\":3971883, \"Chicago\":2720546}\n",
    "for value in city_population.values():\n",
    "    print(value) # 8550405, etc"
   ]
  },
  {
   "cell_type": "code",
   "execution_count": 22,
   "metadata": {},
   "outputs": [
    {
     "name": "stdout",
     "output_type": "stream",
     "text": [
      "<class 'tuple'> ('New York City', 8550405)\n",
      "<class 'tuple'> ('Los Angeles', 3971883)\n",
      "<class 'tuple'> ('Chicago', 2720546)\n"
     ]
    }
   ],
   "source": [
    "city_population = {\"New York City\":8550405, \"Los Angeles\":3971883, \"Chicago\":2720546}\n",
    "for item in city_population.items():\n",
    "    print(type(item), item) # <class 'tuple'> ('New York City', 8550405), etc"
   ]
  },
  {
   "cell_type": "markdown",
   "metadata": {},
   "source": [
    "WRITING FUNCTIONS IN PYTHON"
   ]
  },
  {
   "cell_type": "markdown",
   "metadata": {},
   "source": [
    "Functions in Python are defined using def *desired function name* (parameter): with the operations of the function indented on the following line. Like JavaScript, once the function is defined you can pass arguments to the function by calling the funciton and inserting the argument where a parameter is defined in the parenthesis."
   ]
  },
  {
   "cell_type": "markdown",
   "metadata": {},
   "source": [
    "A function that is defined with no parameters and returns no values:"
   ]
  },
  {
   "cell_type": "code",
   "execution_count": 1,
   "metadata": {},
   "outputs": [
    {
     "name": "stdout",
     "output_type": "stream",
     "text": [
      "Howdy there.\n"
     ]
    }
   ],
   "source": [
    "#define the function\n",
    "def say_hello():\n",
    "    print('Howdy there.') # Howdy there.\n",
    "\n",
    "say_hello() # call the function"
   ]
  },
  {
   "cell_type": "markdown",
   "metadata": {},
   "source": [
    "A function that is defined with one parameter and returns no values:"
   ]
  },
  {
   "cell_type": "code",
   "execution_count": 2,
   "metadata": {},
   "outputs": [
    {
     "name": "stdout",
     "output_type": "stream",
     "text": [
      "Howdy there, Rich.\n"
     ]
    }
   ],
   "source": [
    "#define the function\n",
    "def say_hello(first_name):\n",
    "    print(f'Howdy there, {first_name}.') # use parameter within the format string\n",
    "\n",
    "say_hello('Rich') # call the function"
   ]
  },
  {
   "cell_type": "markdown",
   "metadata": {},
   "source": [
    "A function that is defined with two parameters and returns no values:"
   ]
  },
  {
   "cell_type": "code",
   "execution_count": 5,
   "metadata": {},
   "outputs": [
    {
     "name": "stdout",
     "output_type": "stream",
     "text": [
      "Howdy there, Rich Donohue.\n"
     ]
    }
   ],
   "source": [
    "#define the function\n",
    "def say_hello(first_name, second_name):\n",
    "    print(f'Howdy there, {first_name} {second_name}.') \n",
    "\n",
    "say_hello('Rich','Donohue') # call the function"
   ]
  },
  {
   "cell_type": "markdown",
   "metadata": {},
   "source": [
    "A function that is defined with parameters and returns a value:"
   ]
  },
  {
   "cell_type": "code",
   "execution_count": 4,
   "metadata": {},
   "outputs": [
    {
     "name": "stdout",
     "output_type": "stream",
     "text": [
      "Howdy there, Rich Donohue.\n"
     ]
    }
   ],
   "source": [
    "#define the function\n",
    "def say_hello(first_name, second_name):\n",
    "    return  f'Howdy there, {first_name} {second_name}.'\n",
    "\n",
    "message = say_hello('Rich','Donohue') # call the function and assign the return value\n",
    "print(message) # Howdy there, Rich Donohue."
   ]
  },
  {
   "cell_type": "markdown",
   "metadata": {},
   "source": [
    "Functions in Python can only return one value, so consider what type of data output is appropriate for your needs."
   ]
  },
  {
   "cell_type": "code",
   "execution_count": 8,
   "metadata": {},
   "outputs": [
    {
     "name": "stdout",
     "output_type": "stream",
     "text": [
      "It is Arthur – King of the Britons.\n",
      "To seek the Holy Grail.\n",
      "On second thoughts, let us not go to Camelot. It is a silly place.\n"
     ]
    }
   ],
   "source": [
    "def say_things():\n",
    "    # define variables scoped to function\n",
    "    thing_1 = 'It is Arthur – King of the Britons.'\n",
    "    thing_2 = 'To seek the Holy Grail.'\n",
    "    thing_3 = 'On second thoughts, let us not go to Camelot. It is a silly place.'\n",
    "    return (thing_1, thing_2, thing_3) # return values as tuple\n",
    "\n",
    "a,b,c = say_things() #assigning variables to the three objects within the tuple that is the return product of the function say_things()\n",
    "print(a) # Calling print(variable) to retrieve data from tuple. It is Arthur – King of the Britons.\n",
    "print(b) # Calling print(variable) to retrieve data from tuple. To seek the Holy Grail.\n",
    "print(c) # Calling print(variable) to retrieve data from tuple. On second thoughts, let us not go to Camelot. It is a silly place."
   ]
  },
  {
   "cell_type": "markdown",
   "metadata": {},
   "source": [
    "PYTHON CONTROL STRUCTURE"
   ]
  },
  {
   "cell_type": "markdown",
   "metadata": {},
   "source": [
    "Python uses if, elif, and else statements to perform conditional tests. Like functions, the body of the if block is written not within curly braces, but again uses the colon and indentions:"
   ]
  },
  {
   "cell_type": "code",
   "execution_count": 1,
   "metadata": {},
   "outputs": [
    {
     "name": "stdout",
     "output_type": "stream",
     "text": [
      "It is freezing!\n"
     ]
    }
   ],
   "source": [
    "temp = 32\n",
    "\n",
    "if temp <= 32:\n",
    "    print('It is freezing!')"
   ]
  },
  {
   "cell_type": "markdown",
   "metadata": {},
   "source": [
    "With an else statement:"
   ]
  },
  {
   "cell_type": "code",
   "execution_count": 2,
   "metadata": {},
   "outputs": [
    {
     "name": "stdout",
     "output_type": "stream",
     "text": [
      "It's not freezing but still may be cold.\n"
     ]
    }
   ],
   "source": [
    "temp = 41\n",
    "\n",
    "if temp <= 32:\n",
    "    print('It is freezing!')\n",
    "else:\n",
    "    print('It\\'s not freezing but still may be cold.')"
   ]
  },
  {
   "cell_type": "markdown",
   "metadata": {},
   "source": [
    "You can also chain conditional statements with the elif statement:"
   ]
  },
  {
   "cell_type": "code",
   "execution_count": 3,
   "metadata": {},
   "outputs": [
    {
     "name": "stdout",
     "output_type": "stream",
     "text": [
      "It's not freezing but still cold.\n"
     ]
    }
   ],
   "source": [
    "temp = 40\n",
    "\n",
    "if temp <= 32:\n",
    "    print('It is freezing!')\n",
    "elif 32 < temp < 50:\n",
    "    print('It\\'s not freezing but still cold.')\n",
    "elif 51 < temp < 68:\n",
    "    print('Okay, it\\'s nice out') \n",
    "else:\n",
    "    print('The weather is warm but may be too hot!')"
   ]
  },
  {
   "cell_type": "markdown",
   "metadata": {},
   "source": [
    "WHILE LOOPS"
   ]
  },
  {
   "cell_type": "code",
   "execution_count": 4,
   "metadata": {},
   "outputs": [
    {
     "name": "stdout",
     "output_type": "stream",
     "text": [
      "10\n",
      "9\n",
      "8\n",
      "7\n",
      "6\n",
      "5\n",
      "4\n",
      "3\n",
      "2\n",
      "1\n"
     ]
    }
   ],
   "source": [
    "count = 10\n",
    "while count > 0:\n",
    "    print(count)\n",
    "    count -= 1 # 10 ... 9 ... 8 ... etc"
   ]
  },
  {
   "cell_type": "markdown",
   "metadata": {},
   "source": [
    "Incorporating a break statement conditioinally"
   ]
  },
  {
   "cell_type": "code",
   "execution_count": 5,
   "metadata": {},
   "outputs": [
    {
     "name": "stdout",
     "output_type": "stream",
     "text": [
      "10\n",
      "9\n",
      "8\n",
      "7\n",
      "6\n",
      "5\n",
      "4\n",
      "3\n"
     ]
    }
   ],
   "source": [
    "count = 10\n",
    "while count > 0:\n",
    "    print(count)\n",
    "    if count == 3:\n",
    "        break\n",
    "    count -= 1"
   ]
  },
  {
   "cell_type": "markdown",
   "metadata": {},
   "source": [
    "FOR LOOPS"
   ]
  },
  {
   "cell_type": "code",
   "execution_count": 6,
   "metadata": {},
   "outputs": [
    {
     "name": "stdout",
     "output_type": "stream",
     "text": [
      "1\n",
      "2\n",
      "3\n",
      "4\n",
      "5\n",
      "6\n",
      "7\n",
      "8\n",
      "9\n"
     ]
    }
   ],
   "source": [
    "nums = [1,2,3,4,5,6,7,8,9]\n",
    "for num in nums:\n",
    "    print(num) # 1 ... 2 ... 3 ... etc"
   ]
  },
  {
   "cell_type": "markdown",
   "metadata": {},
   "source": [
    "incorporate the range() to iterate through a range of numbers: range(min, max)"
   ]
  },
  {
   "cell_type": "code",
   "execution_count": 8,
   "metadata": {},
   "outputs": [
    {
     "name": "stdout",
     "output_type": "stream",
     "text": [
      "0\n",
      "1\n",
      "2\n",
      "3\n",
      "4\n",
      "5\n",
      "6\n",
      "7\n",
      "8\n",
      "9\n"
     ]
    }
   ],
   "source": [
    "for num in range(10):\n",
    "    print(num) # 0 ... 1 ... 2 ... **etc**"
   ]
  },
  {
   "cell_type": "markdown",
   "metadata": {},
   "source": [
    "This example takes start and step values within the range function's parameters and uses the modulo operator to evaluate whether or not a number returns a decimal value when divided by two."
   ]
  },
  {
   "cell_type": "code",
   "execution_count": 10,
   "metadata": {},
   "outputs": [
    {
     "name": "stdout",
     "output_type": "stream",
     "text": [
      "2\n",
      "4\n",
      "6\n",
      "8\n"
     ]
    }
   ],
   "source": [
    "for num in range(1,10):\n",
    "    if num % 2 == 0:\n",
    "        print(num) # 1 ... 2 ... 3 ... etc"
   ]
  },
  {
   "cell_type": "markdown",
   "metadata": {},
   "source": [
    "Looping through and unpacking dictionaries:"
   ]
  },
  {
   "cell_type": "code",
   "execution_count": 11,
   "metadata": {},
   "outputs": [
    {
     "name": "stdout",
     "output_type": "stream",
     "text": [
      "key: New York City, value: 8550405\n",
      "key: Los Angeles, value: 3971883\n",
      "key: Chicago, value: 2720546\n",
      "key: Buenos Aires, value: 2890000\n"
     ]
    }
   ],
   "source": [
    "city_population = {\"New York City\":8550405, \"Los Angeles\":3971883, \"Chicago\":2720546, \"Buenos Aires\": 2890000}\n",
    "\n",
    "for key, value in city_population.items():\n",
    "    print(f'key: {key}, value: {value}') # key: New York City, value: 8550405, etc."
   ]
  },
  {
   "cell_type": "markdown",
   "metadata": {},
   "source": [
    "Another useful statement is the pass statement, which does nothing but allows the program to keep executing within a loop. Often it is used to reserve a space for future code."
   ]
  },
  {
   "cell_type": "code",
   "execution_count": 12,
   "metadata": {},
   "outputs": [],
   "source": [
    "question = 'What is the air-speed velocity of an unladen swallow?'\n",
    "words = question.split() # return list of words\n",
    "\n",
    "for word in words:\n",
    "    if word == 'African' or word == 'European':\n",
    "        print('Question is specific')\n",
    "    else:\n",
    "        # future code\n",
    "        pass"
   ]
  },
  {
   "cell_type": "markdown",
   "metadata": {},
   "source": [
    "PYTHON CORE MODULES"
   ]
  },
  {
   "cell_type": "code",
   "execution_count": null,
   "metadata": {},
   "outputs": [],
   "source": []
  }
 ],
 "metadata": {
  "kernelspec": {
   "display_name": "Python 3",
   "language": "python",
   "name": "python3"
  },
  "language_info": {
   "codemirror_mode": {
    "name": "ipython",
    "version": 3
   },
   "file_extension": ".py",
   "mimetype": "text/x-python",
   "name": "python",
   "nbconvert_exporter": "python",
   "pygments_lexer": "ipython3",
   "version": "3.7.0"
  }
 },
 "nbformat": 4,
 "nbformat_minor": 2
}
